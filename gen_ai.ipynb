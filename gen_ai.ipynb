{
  "nbformat": 4,
  "nbformat_minor": 0,
  "metadata": {
    "colab": {
      "provenance": []
    },
    "kernelspec": {
      "name": "python3",
      "display_name": "Python 3"
    },
    "language_info": {
      "name": "python"
    }
  },
  "cells": [
    {
      "cell_type": "code",
      "source": [
        "!pip install gensim==4.3.3 numpy==1.24.3"
      ],
      "metadata": {
        "colab": {
          "base_uri": "https://localhost:8080/"
        },
        "id": "fB2StuozovZp",
        "outputId": "5f05df44-e257-4eb0-e6af-6432ee8df478"
      },
      "execution_count": 1,
      "outputs": [
        {
          "output_type": "stream",
          "name": "stdout",
          "text": [
            "Requirement already satisfied: gensim==4.3.3 in /usr/local/lib/python3.11/dist-packages (4.3.3)\n",
            "Requirement already satisfied: numpy==1.24.3 in /usr/local/lib/python3.11/dist-packages (1.24.3)\n",
            "Requirement already satisfied: scipy<1.14.0,>=1.7.0 in /usr/local/lib/python3.11/dist-packages (from gensim==4.3.3) (1.13.1)\n",
            "Requirement already satisfied: smart-open>=1.8.1 in /usr/local/lib/python3.11/dist-packages (from gensim==4.3.3) (7.1.0)\n",
            "Requirement already satisfied: wrapt in /usr/local/lib/python3.11/dist-packages (from smart-open>=1.8.1->gensim==4.3.3) (1.17.2)\n"
          ]
        }
      ]
    },
    {
      "cell_type": "code",
      "execution_count": 3,
      "metadata": {
        "colab": {
          "base_uri": "https://localhost:8080/"
        },
        "id": "w9-qO04om9nF",
        "outputId": "876bf04c-85dd-49c8-e0e1-031c195d0a6d"
      },
      "outputs": [
        {
          "output_type": "stream",
          "name": "stdout",
          "text": [
            "Vocabulary size: 400000\n",
            "queen: 0.7699\n",
            "monarch: 0.6843\n",
            "throne: 0.6756\n",
            "daughter: 0.6595\n",
            "princess: 0.6521\n",
            "[('computers', 0.8751984238624573), ('software', 0.8373122215270996), ('technology', 0.7642159461975098), ('pc', 0.7366448640823364), ('hardware', 0.7290390729904175)]\n",
            "banana\n",
            "0.7507691\n"
          ]
        }
      ],
      "source": [
        "import gensim.downloader as api\n",
        "# import numpy as np\n",
        "# Load pre-trained GloVe embeddings (100d)\n",
        "word_vectors = api.load('glove-wiki-gigaword-100') # ~130MB\n",
        "print(f\"Vocabulary size: {len(word_vectors.index_to_key)}\")\n",
        "# King - Man + Woman = ?\n",
        "result = word_vectors.most_similar(positive=['king', 'woman'], negative=['man'], topn=5)\n",
        "for word, similarity in result:\n",
        " print(f\"{word}: {similarity:.4f}\")\n",
        "# Similar words to \"computer\"\n",
        "print(word_vectors.most_similar('computer', topn=5))\n",
        "# Odd one out\n",
        "print(word_vectors.doesnt_match(\"breakfast lunch dinner banana\".split()))\n",
        "# Word similarity\n",
        "print(word_vectors.similarity('king', 'queen'))\n"
      ]
    },
    {
      "cell_type": "markdown",
      "source": [
        "2nd"
      ],
      "metadata": {
        "id": "5Jddacqyt3jd"
      }
    },
    {
      "cell_type": "code",
      "source": [
        "import matplotlib.pyplot as plt\n",
        "from sklearn.decomposition import PCA\n",
        "import numpy as np\n",
        "import gensim.downloader as api\n",
        "\n",
        "word_vectors = api.load('glove-wiki-gigaword-100') # ~130MB\n",
        "# Sports words\n",
        "sports_words = ['football', 'soccer', 'tennis', 'basketball', 'cricket', 'goal', 'player', 'team', 'coach',\n",
        "'score']\n",
        "sports_vectors = np.array([word_vectors[word] for word in sports_words])\n",
        "# PCA Visualization\n",
        "pca = PCA(n_components=2)\n",
        "sports_2d = pca.fit_transform(sports_vectors)\n",
        "plt.figure(figsize=(8,6))\n",
        "for i, word in enumerate(sports_words):\n",
        "  plt.scatter(sports_2d[i,0], sports_2d[i,1])\n",
        "  plt.annotate(word, (sports_2d[i,0], sports_2d[i,1]))\n",
        "plt.title(\"PCA Visualization of Sports Words\")\n",
        "plt.show()\n",
        "\n",
        "# to get 5 semantically similar words\n",
        "# Load pre-trained GloVe embeddings (100d)\n",
        "\n",
        "result=word_vectors.most_similar(\"man\",topn=5 )\n",
        "for word, similarity in result:\n",
        " print(f\"{word}: {similarity:.4f}\")\n"
      ],
      "metadata": {
        "colab": {
          "base_uri": "https://localhost:8080/",
          "height": 632
        },
        "id": "tpjPo-aht3IH",
        "outputId": "3b2b9693-71e9-4dd9-aa33-b15c7a61de63"
      },
      "execution_count": 18,
      "outputs": [
        {
          "output_type": "display_data",
          "data": {
            "text/plain": [
              "<Figure size 800x600 with 1 Axes>"
            ],
            "image/png": "[encoded data removed]"
          },
          "metadata": {}
        },
        {
          "output_type": "stream",
          "name": "stdout",
          "text": [
            "woman: 0.8323\n",
            "boy: 0.7915\n",
            "one: 0.7789\n",
            "person: 0.7527\n",
            "another: 0.7522\n"
          ]
        }
      ]
    },
    {
      "cell_type": "markdown",
      "source": [
        "3rd program"
      ],
      "metadata": {
        "id": "BlWZFW3v0KS0"
      }
    },
    {
      "cell_type": "code",
      "source": [
        "from gensim.models import Word2Vec\n",
        "\n",
        "medical_data = [\n",
        " [\"patient\", \"doctor\", \"nurse\", \"hospital\", \"treatment\"],\n",
        " [\"cancer\", \"chemotherapy\", \"radiation\", \"surgery\", \"recovery\"],\n",
        " [\"infection\", \"antibiotics\", \"diagnosis\", \"disease\", \"virus\"],\n",
        " [\"heart\", \"disease\", \"surgery\", \"cardiology\", \"recovery\"] ]\n",
        "\n",
        "model = Word2Vec(sentences=medical_data, vector_size=10, window=2,\n",
        "min_count=1, workers=1, epochs=50)\n",
        "\n",
        "input_word = \"patient\"\n",
        "if input_word in model.wv:\n",
        " similar_words = model.wv.most_similar(input_word, topn=3)\n",
        " print(f\"3 words similar to '{input_word}':\")\n",
        " for word, similarity in similar_words:\n",
        "  print(f\"{word} (similarity: {similarity:.2f})\")\n",
        "else:\n",
        " print(f\"'{input_word}' is not in the vocabulary.\")"
      ],
      "metadata": {
        "colab": {
          "base_uri": "https://localhost:8080/"
        },
        "id": "1OV5NNZ30J8d",
        "outputId": "2dcec97b-1d03-4e74-9e92-06bf3a866faf"
      },
      "execution_count": 11,
      "outputs": [
        {
          "output_type": "stream",
          "name": "stdout",
          "text": [
            "3 words similar to 'patient':\n",
            "nurse (similarity: 0.59)\n",
            "doctor (similarity: 0.34)\n",
            "chemotherapy (similarity: 0.29)\n"
          ]
        }
      ]
    },
    {
      "cell_type": "markdown",
      "source": [
        "4th"
      ],
      "metadata": {
        "id": "UmpU-KnZ7KxL"
      }
    },
    {
      "cell_type": "code",
      "source": [
        "# Step 1: Pre-defined dictionary of words and their similar terms (static word\n",
        "word_embeddings = {\n",
        " \"ai\": [\"machine learning\", \"deep learning\", \"data science\"],\n",
        " \"data\": [\"information\", \"dataset\", \"analytics\"],\n",
        " \"science\": [\"research\", \"experiment\", \"technology\"],\n",
        " \"learning\": [\"education\", \"training\", \"knowledge\"],\n",
        " \"robot\": [\"automation\", \"machine\", \"mechanism\"]\n",
        "}\n",
        "# Step 2: Function to find similar words using the static dictionary\n",
        "def find_similar_words(word):\n",
        " if word in word_embeddings:\n",
        "  return word_embeddings[word]\n",
        " else:\n",
        "  return []\n",
        "# Step 3: Function to enrich a prompt with similar words\n",
        "def enrich_prompt(prompt):\n",
        " words = prompt.lower().split()\n",
        " enriched_words = []\n",
        " for word in words:\n",
        "  similar_words = find_similar_words(word)\n",
        "  if similar_words:\n",
        "    enriched_words.append(f\"{word} ({', '.join(similar_words)})\")\n",
        "  else:\n",
        "    enriched_words.append(word)\n",
        "\n",
        " return \" \".join(enriched_words)\n",
        "\n",
        "# Step 4: Original prompt\n",
        "original_prompt = \"Explain AI and its applications in science.\"\n",
        "# Step 5: Enrich the prompt using similar words\n",
        "enriched_prompt = enrich_prompt(original_prompt)\n",
        "# Step 6: Print the original and enriched prompts\n",
        "print(\"Original Prompt:\")\n",
        "print(original_prompt)\n",
        "print(\"\\nEnriched Prompt:\")\n",
        "print(enriched_prompt)\n"
      ],
      "metadata": {
        "colab": {
          "base_uri": "https://localhost:8080/"
        },
        "id": "8Fp-HPyx0l8-",
        "outputId": "2b54cd0e-5b34-40d3-e6b6-6396abcbc632"
      },
      "execution_count": 17,
      "outputs": [
        {
          "output_type": "stream",
          "name": "stdout",
          "text": [
            "Original Prompt:\n",
            "Explain AI and its applications in science.\n",
            "\n",
            "Enriched Prompt:\n",
            "explain ai (machine learning, deep learning, data science) and its applications in science.\n"
          ]
        }
      ]
    },
    {
      "cell_type": "markdown",
      "source": [
        "5th"
      ],
      "metadata": {
        "id": "cdraIjWC9CbX"
      }
    },
    {
      "cell_type": "code",
      "source": [
        "# Step 1: Pre-defined dictionary of words and their similar terms\n",
        "word_embeddings = {\n",
        " \"adventure\": [\"journey\", \"exploration\", \"quest\"],\n",
        " \"robot\": [\"machine\", \"automation\", \"mechanism\"],\n",
        " \"forest\": [\"woods\", \"jungle\", \"wilderness\"],\n",
        " \"ocean\": [\"sea\", \"waves\", \"depths\"],\n",
        " \"magic\": [\"spell\", \"wizardry\", \"enchantment\"]\n",
        "}\n",
        "# Step 2: Function to get similar words for a seed word\n",
        "def get_similar_words(seed_word):\n",
        " if seed_word in word_embeddings:\n",
        "  return word_embeddings[seed_word]\n",
        " else:\n",
        "  return [\"No similar words found\"]\n",
        "# Step 3: Function to create a short paragraph using the seed word and similar words\n",
        "def create_paragraph(seed_word):\n",
        "  similar_words = get_similar_words(seed_word)\n",
        "  if \"No similar words found\" in similar_words:\n",
        "    return f\"Sorry, I couldn't find similar words for '{seed_word}'.\"\n",
        "# Construct a short story using the seed word and similar words\n",
        "  paragraph = (\n",
        "  f\"Once upon a time, there was a great {seed_word}. \"\n",
        "  f\"It was full of {', '.join(similar_words[:-1])}, and {similar_words[-1]}. \"\n",
        "  f\"Everyone who experienced this {seed_word} always remembered it as a remarkable tale.\"\n",
        "  )\n",
        "\n",
        "  return paragraph\n",
        "# Step 4: Input a seed word\n",
        "seed_word = \"adventure\" # You can change this to \"robot\", \"forest\", \"ocean\", \"magic\", etc.\n",
        "# Step 5: Generate and print the paragraph\n",
        "story = create_paragraph(seed_word)\n",
        "print(\"Generated Paragraph:\")\n",
        "print(story)\n"
      ],
      "metadata": {
        "colab": {
          "base_uri": "https://localhost:8080/"
        },
        "id": "jNkT_WnZ9Xxj",
        "outputId": "b0782dbb-0cd3-4254-c275-da089a763f89"
      },
      "execution_count": 20,
      "outputs": [
        {
          "output_type": "stream",
          "name": "stdout",
          "text": [
            "Generated Paragraph:\n",
            "Once upon a time, there was a great adventure. It was full of journey, exploration, and quest. Everyone who experienced this adventure always remembered it as a remarkable tale.\n"
          ]
        }
      ]
    }
  ]
}